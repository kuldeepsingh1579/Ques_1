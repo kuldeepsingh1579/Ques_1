{
 "cells": [
  {
   "cell_type": "raw",
   "id": "f4294887-8ae4-4cde-9bc4-2789c71c2310",
   "metadata": {},
   "source": [
    "Local Storage--Local storage is the most recent mechanism. It allows for larger amounts of data to stored, but the data is not deleted when browser is closed.\n",
    "Local storage is useful for storing data that the user will need to access later, such as offline data.\n",
    "The size limit for for local storage is larger than cookies, typically around 5-10 MB\n",
    "\n",
    "Session Storage-- Session storage is similar to storage is that it allows developers to store data on the client-side. It is similar to cookies, but the data is only stored for current session.This means the data will be deleted when the user closes the browser.\n",
    "The size limit for session storage is also larger than cookies but usually smaller than local storage.\n",
    "\n",
    "Cookies--Cookies are small pieces of data that are sent from a web server and stored on the user's device.Cookies are sent to the server with every HTTP request, including images, scripts, stylesheets, etc., which can increase the size of the request and slow down the website.They have a limited size of usually 4KB.\n"
   ]
  }
 ],
 "metadata": {
  "kernelspec": {
   "display_name": "Python 3 (ipykernel)",
   "language": "python",
   "name": "python3"
  },
  "language_info": {
   "codemirror_mode": {
    "name": "ipython",
    "version": 3
   },
   "file_extension": ".py",
   "mimetype": "text/x-python",
   "name": "python",
   "nbconvert_exporter": "python",
   "pygments_lexer": "ipython3",
   "version": "3.10.8"
  }
 },
 "nbformat": 4,
 "nbformat_minor": 5
}
